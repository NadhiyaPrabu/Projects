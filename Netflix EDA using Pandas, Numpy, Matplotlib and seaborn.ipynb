{
 "cells": [
  {
   "cell_type": "code",
   "execution_count": 3,
   "id": "bb9bb6b8-2c0a-4d46-98b5-76a32a0fdd10",
   "metadata": {},
   "outputs": [
    {
     "name": "stdout",
     "output_type": "stream",
     "text": [
      "['acknowledgementSlip_S1322378979000.pdf', 'amazon_prime_titles.csv', 'Anaconda3-2024.10-1-Windows-x86_64.exe', 'archive (1).zip', 'archive.zip', 'blinkit', 'desktop.ini', 'dokumen.pub_pro-power-bi-desktop (1).pdf', 'dokumen.pub_pro-power-bi-desktop.epub', 'dokumen.pub_prompt-engineering-for-llms-the-art-and-science-of-building-large-language-modelbased-applications-9781098156152.epub', 'Exploratory Data Analysis.pdf', 'HotelManagementSystem', 'HotelManagementSystem.zip', 'mysql-connector-odbc-8.0.40-win32.msi', 'mysql-connector-odbc-8.4.0-winx64.msi', 'mysql-connector-odbc-9.2.0-winx64.msi', 'mysql-connector-odbc-9.3.0-winx64.msi', 'mysql-installer-community-8.0.40.0.msi', 'Netflix.csv', 'PBIDesktopSetup_x64.exe', 'powerbi-course-syllabus.pdf', 'Power_Bi_Visualisation_guides__1739453974.pdf', 'pycharm-community-2024.1.1.exe', 'python-3.13.0-amd64.exe', 'Sample - Superstore - 2025-3.xls', 'school.sql', 'sql_basic certificate.pdf', 'TableauPublicDesktop-64bit-2025-1-0.exe', 'zepto database in excel.xls', 'Zepto_Ecommerce_Report.pbix', '~$Sumif practise.xlsx', '~$What if analysis .xlsx', '~05-05-2025__17476.twbr']\n"
     ]
    }
   ],
   "source": [
    "import os\n",
    "import pandas as pd\n",
    "import numpy as np\n",
    "import matplotlib as plt\n",
    "import seaborn as sns\n",
    "print(os.listdir('C:\\\\Users\\\\NADHIYA\\\\downloads'))"
   ]
  },
  {
   "cell_type": "code",
   "execution_count": 7,
   "id": "095e13ea-6b65-4117-afdc-a67f78342811",
   "metadata": {},
   "outputs": [
    {
     "data": {
      "text/html": [
       "<div>\n",
       "<style scoped>\n",
       "    .dataframe tbody tr th:only-of-type {\n",
       "        vertical-align: middle;\n",
       "    }\n",
       "\n",
       "    .dataframe tbody tr th {\n",
       "        vertical-align: top;\n",
       "    }\n",
       "\n",
       "    .dataframe thead th {\n",
       "        text-align: right;\n",
       "    }\n",
       "</style>\n",
       "<table border=\"1\" class=\"dataframe\">\n",
       "  <thead>\n",
       "    <tr style=\"text-align: right;\">\n",
       "      <th></th>\n",
       "      <th>Show_Id</th>\n",
       "      <th>Category</th>\n",
       "      <th>Title</th>\n",
       "      <th>Director</th>\n",
       "      <th>Cast</th>\n",
       "      <th>Country</th>\n",
       "      <th>Release_Date</th>\n",
       "      <th>Rating</th>\n",
       "      <th>Duration</th>\n",
       "      <th>Type</th>\n",
       "      <th>Description</th>\n",
       "    </tr>\n",
       "  </thead>\n",
       "  <tbody>\n",
       "    <tr>\n",
       "      <th>0</th>\n",
       "      <td>s1</td>\n",
       "      <td>TV Show</td>\n",
       "      <td>3%</td>\n",
       "      <td>NaN</td>\n",
       "      <td>João Miguel, Bianca Comparato, Michel Gomes, R...</td>\n",
       "      <td>Brazil</td>\n",
       "      <td>August 14, 2020</td>\n",
       "      <td>TV-MA</td>\n",
       "      <td>4 Seasons</td>\n",
       "      <td>International TV Shows, TV Dramas, TV Sci-Fi &amp;...</td>\n",
       "      <td>In a future where the elite inhabit an island ...</td>\n",
       "    </tr>\n",
       "    <tr>\n",
       "      <th>1</th>\n",
       "      <td>s2</td>\n",
       "      <td>Movie</td>\n",
       "      <td>07:19</td>\n",
       "      <td>Jorge Michel Grau</td>\n",
       "      <td>Demián Bichir, Héctor Bonilla, Oscar Serrano, ...</td>\n",
       "      <td>Mexico</td>\n",
       "      <td>December 23, 2016</td>\n",
       "      <td>TV-MA</td>\n",
       "      <td>93 min</td>\n",
       "      <td>Dramas, International Movies</td>\n",
       "      <td>After a devastating earthquake hits Mexico Cit...</td>\n",
       "    </tr>\n",
       "    <tr>\n",
       "      <th>2</th>\n",
       "      <td>s3</td>\n",
       "      <td>Movie</td>\n",
       "      <td>23:59</td>\n",
       "      <td>Gilbert Chan</td>\n",
       "      <td>Tedd Chan, Stella Chung, Henley Hii, Lawrence ...</td>\n",
       "      <td>Singapore</td>\n",
       "      <td>December 20, 2018</td>\n",
       "      <td>R</td>\n",
       "      <td>78 min</td>\n",
       "      <td>Horror Movies, International Movies</td>\n",
       "      <td>When an army recruit is found dead, his fellow...</td>\n",
       "    </tr>\n",
       "    <tr>\n",
       "      <th>3</th>\n",
       "      <td>s4</td>\n",
       "      <td>Movie</td>\n",
       "      <td>9</td>\n",
       "      <td>Shane Acker</td>\n",
       "      <td>Elijah Wood, John C. Reilly, Jennifer Connelly...</td>\n",
       "      <td>United States</td>\n",
       "      <td>November 16, 2017</td>\n",
       "      <td>PG-13</td>\n",
       "      <td>80 min</td>\n",
       "      <td>Action &amp; Adventure, Independent Movies, Sci-Fi...</td>\n",
       "      <td>In a postapocalyptic world, rag-doll robots hi...</td>\n",
       "    </tr>\n",
       "    <tr>\n",
       "      <th>4</th>\n",
       "      <td>s5</td>\n",
       "      <td>Movie</td>\n",
       "      <td>21</td>\n",
       "      <td>Robert Luketic</td>\n",
       "      <td>Jim Sturgess, Kevin Spacey, Kate Bosworth, Aar...</td>\n",
       "      <td>United States</td>\n",
       "      <td>January 1, 2020</td>\n",
       "      <td>PG-13</td>\n",
       "      <td>123 min</td>\n",
       "      <td>Dramas</td>\n",
       "      <td>A brilliant group of students become card-coun...</td>\n",
       "    </tr>\n",
       "    <tr>\n",
       "      <th>...</th>\n",
       "      <td>...</td>\n",
       "      <td>...</td>\n",
       "      <td>...</td>\n",
       "      <td>...</td>\n",
       "      <td>...</td>\n",
       "      <td>...</td>\n",
       "      <td>...</td>\n",
       "      <td>...</td>\n",
       "      <td>...</td>\n",
       "      <td>...</td>\n",
       "      <td>...</td>\n",
       "    </tr>\n",
       "    <tr>\n",
       "      <th>7784</th>\n",
       "      <td>s7783</td>\n",
       "      <td>Movie</td>\n",
       "      <td>Zozo</td>\n",
       "      <td>Josef Fares</td>\n",
       "      <td>Imad Creidi, Antoinette Turk, Elias Gergi, Car...</td>\n",
       "      <td>Sweden, Czech Republic, United Kingdom, Denmar...</td>\n",
       "      <td>October 19, 2020</td>\n",
       "      <td>TV-MA</td>\n",
       "      <td>99 min</td>\n",
       "      <td>Dramas, International Movies</td>\n",
       "      <td>When Lebanon's Civil War deprives Zozo of his ...</td>\n",
       "    </tr>\n",
       "    <tr>\n",
       "      <th>7785</th>\n",
       "      <td>s7784</td>\n",
       "      <td>Movie</td>\n",
       "      <td>Zubaan</td>\n",
       "      <td>Mozez Singh</td>\n",
       "      <td>Vicky Kaushal, Sarah-Jane Dias, Raaghav Chanan...</td>\n",
       "      <td>India</td>\n",
       "      <td>March 2, 2019</td>\n",
       "      <td>TV-14</td>\n",
       "      <td>111 min</td>\n",
       "      <td>Dramas, International Movies, Music &amp; Musicals</td>\n",
       "      <td>A scrappy but poor boy worms his way into a ty...</td>\n",
       "    </tr>\n",
       "    <tr>\n",
       "      <th>7786</th>\n",
       "      <td>s7785</td>\n",
       "      <td>Movie</td>\n",
       "      <td>Zulu Man in Japan</td>\n",
       "      <td>NaN</td>\n",
       "      <td>Nasty C</td>\n",
       "      <td>NaN</td>\n",
       "      <td>September 25, 2020</td>\n",
       "      <td>TV-MA</td>\n",
       "      <td>44 min</td>\n",
       "      <td>Documentaries, International Movies, Music &amp; M...</td>\n",
       "      <td>In this documentary, South African rapper Nast...</td>\n",
       "    </tr>\n",
       "    <tr>\n",
       "      <th>7787</th>\n",
       "      <td>s7786</td>\n",
       "      <td>TV Show</td>\n",
       "      <td>Zumbo's Just Desserts</td>\n",
       "      <td>NaN</td>\n",
       "      <td>Adriano Zumbo, Rachel Khoo</td>\n",
       "      <td>Australia</td>\n",
       "      <td>October 31, 2020</td>\n",
       "      <td>TV-PG</td>\n",
       "      <td>1 Season</td>\n",
       "      <td>International TV Shows, Reality TV</td>\n",
       "      <td>Dessert wizard Adriano Zumbo looks for the nex...</td>\n",
       "    </tr>\n",
       "    <tr>\n",
       "      <th>7788</th>\n",
       "      <td>s7787</td>\n",
       "      <td>Movie</td>\n",
       "      <td>ZZ TOP: THAT LITTLE OL' BAND FROM TEXAS</td>\n",
       "      <td>Sam Dunn</td>\n",
       "      <td>NaN</td>\n",
       "      <td>United Kingdom, Canada, United States</td>\n",
       "      <td>March 1, 2020</td>\n",
       "      <td>TV-MA</td>\n",
       "      <td>90 min</td>\n",
       "      <td>Documentaries, Music &amp; Musicals</td>\n",
       "      <td>This documentary delves into the mystique behi...</td>\n",
       "    </tr>\n",
       "  </tbody>\n",
       "</table>\n",
       "<p>7789 rows × 11 columns</p>\n",
       "</div>"
      ],
      "text/plain": [
       "     Show_Id Category                                    Title  \\\n",
       "0         s1  TV Show                                       3%   \n",
       "1         s2    Movie                                    07:19   \n",
       "2         s3    Movie                                    23:59   \n",
       "3         s4    Movie                                        9   \n",
       "4         s5    Movie                                       21   \n",
       "...      ...      ...                                      ...   \n",
       "7784   s7783    Movie                                     Zozo   \n",
       "7785   s7784    Movie                                   Zubaan   \n",
       "7786   s7785    Movie                        Zulu Man in Japan   \n",
       "7787   s7786  TV Show                    Zumbo's Just Desserts   \n",
       "7788   s7787    Movie  ZZ TOP: THAT LITTLE OL' BAND FROM TEXAS   \n",
       "\n",
       "               Director                                               Cast  \\\n",
       "0                   NaN  João Miguel, Bianca Comparato, Michel Gomes, R...   \n",
       "1     Jorge Michel Grau  Demián Bichir, Héctor Bonilla, Oscar Serrano, ...   \n",
       "2          Gilbert Chan  Tedd Chan, Stella Chung, Henley Hii, Lawrence ...   \n",
       "3           Shane Acker  Elijah Wood, John C. Reilly, Jennifer Connelly...   \n",
       "4        Robert Luketic  Jim Sturgess, Kevin Spacey, Kate Bosworth, Aar...   \n",
       "...                 ...                                                ...   \n",
       "7784        Josef Fares  Imad Creidi, Antoinette Turk, Elias Gergi, Car...   \n",
       "7785        Mozez Singh  Vicky Kaushal, Sarah-Jane Dias, Raaghav Chanan...   \n",
       "7786                NaN                                            Nasty C   \n",
       "7787                NaN                         Adriano Zumbo, Rachel Khoo   \n",
       "7788           Sam Dunn                                                NaN   \n",
       "\n",
       "                                                Country        Release_Date  \\\n",
       "0                                                Brazil     August 14, 2020   \n",
       "1                                                Mexico   December 23, 2016   \n",
       "2                                             Singapore   December 20, 2018   \n",
       "3                                         United States   November 16, 2017   \n",
       "4                                         United States     January 1, 2020   \n",
       "...                                                 ...                 ...   \n",
       "7784  Sweden, Czech Republic, United Kingdom, Denmar...    October 19, 2020   \n",
       "7785                                              India       March 2, 2019   \n",
       "7786                                                NaN  September 25, 2020   \n",
       "7787                                          Australia    October 31, 2020   \n",
       "7788              United Kingdom, Canada, United States       March 1, 2020   \n",
       "\n",
       "     Rating   Duration                                               Type  \\\n",
       "0     TV-MA  4 Seasons  International TV Shows, TV Dramas, TV Sci-Fi &...   \n",
       "1     TV-MA     93 min                       Dramas, International Movies   \n",
       "2         R     78 min                Horror Movies, International Movies   \n",
       "3     PG-13     80 min  Action & Adventure, Independent Movies, Sci-Fi...   \n",
       "4     PG-13    123 min                                             Dramas   \n",
       "...     ...        ...                                                ...   \n",
       "7784  TV-MA     99 min                       Dramas, International Movies   \n",
       "7785  TV-14    111 min     Dramas, International Movies, Music & Musicals   \n",
       "7786  TV-MA     44 min  Documentaries, International Movies, Music & M...   \n",
       "7787  TV-PG   1 Season                 International TV Shows, Reality TV   \n",
       "7788  TV-MA     90 min                    Documentaries, Music & Musicals   \n",
       "\n",
       "                                            Description  \n",
       "0     In a future where the elite inhabit an island ...  \n",
       "1     After a devastating earthquake hits Mexico Cit...  \n",
       "2     When an army recruit is found dead, his fellow...  \n",
       "3     In a postapocalyptic world, rag-doll robots hi...  \n",
       "4     A brilliant group of students become card-coun...  \n",
       "...                                                 ...  \n",
       "7784  When Lebanon's Civil War deprives Zozo of his ...  \n",
       "7785  A scrappy but poor boy worms his way into a ty...  \n",
       "7786  In this documentary, South African rapper Nast...  \n",
       "7787  Dessert wizard Adriano Zumbo looks for the nex...  \n",
       "7788  This documentary delves into the mystique behi...  \n",
       "\n",
       "[7789 rows x 11 columns]"
      ]
     },
     "execution_count": 7,
     "metadata": {},
     "output_type": "execute_result"
    }
   ],
   "source": [
    "df= pd.read_csv('C:\\\\Users\\\\NADHIYA\\\\downloads\\\\Netflix.csv')\n",
    "df"
   ]
  },
  {
   "cell_type": "markdown",
   "id": "6e0aff84-4750-4575-a19c-2d838d88909c",
   "metadata": {},
   "source": [
    "# warmup excercise"
   ]
  },
  {
   "cell_type": "code",
   "execution_count": null,
   "id": "fe0ccb1a-7676-4c1a-b27d-7c71318d9747",
   "metadata": {},
   "outputs": [],
   "source": [
    "\n",
    "# 1.Show top 5 records of the dataset\n",
    "df.head(5)\n"
   ]
  },
  {
   "cell_type": "code",
   "execution_count": 32,
   "id": "dbc14df2-8eb6-4c90-9da4-7a0dc6a90777",
   "metadata": {},
   "outputs": [
    {
     "data": {
      "text/html": [
       "<div>\n",
       "<style scoped>\n",
       "    .dataframe tbody tr th:only-of-type {\n",
       "        vertical-align: middle;\n",
       "    }\n",
       "\n",
       "    .dataframe tbody tr th {\n",
       "        vertical-align: top;\n",
       "    }\n",
       "\n",
       "    .dataframe thead th {\n",
       "        text-align: right;\n",
       "    }\n",
       "</style>\n",
       "<table border=\"1\" class=\"dataframe\">\n",
       "  <thead>\n",
       "    <tr style=\"text-align: right;\">\n",
       "      <th></th>\n",
       "      <th>Show_Id</th>\n",
       "      <th>Category</th>\n",
       "      <th>Title</th>\n",
       "      <th>Director</th>\n",
       "      <th>Cast</th>\n",
       "      <th>Country</th>\n",
       "      <th>Release_Date</th>\n",
       "      <th>Rating</th>\n",
       "      <th>Duration</th>\n",
       "      <th>Type</th>\n",
       "      <th>Description</th>\n",
       "    </tr>\n",
       "  </thead>\n",
       "  <tbody>\n",
       "    <tr>\n",
       "      <th>7784</th>\n",
       "      <td>s7783</td>\n",
       "      <td>Movie</td>\n",
       "      <td>Zozo</td>\n",
       "      <td>Josef Fares</td>\n",
       "      <td>Imad Creidi, Antoinette Turk, Elias Gergi, Car...</td>\n",
       "      <td>Sweden, Czech Republic, United Kingdom, Denmar...</td>\n",
       "      <td>October 19, 2020</td>\n",
       "      <td>TV-MA</td>\n",
       "      <td>99 min</td>\n",
       "      <td>Dramas, International Movies</td>\n",
       "      <td>When Lebanon's Civil War deprives Zozo of his ...</td>\n",
       "    </tr>\n",
       "    <tr>\n",
       "      <th>7785</th>\n",
       "      <td>s7784</td>\n",
       "      <td>Movie</td>\n",
       "      <td>Zubaan</td>\n",
       "      <td>Mozez Singh</td>\n",
       "      <td>Vicky Kaushal, Sarah-Jane Dias, Raaghav Chanan...</td>\n",
       "      <td>India</td>\n",
       "      <td>March 2, 2019</td>\n",
       "      <td>TV-14</td>\n",
       "      <td>111 min</td>\n",
       "      <td>Dramas, International Movies, Music &amp; Musicals</td>\n",
       "      <td>A scrappy but poor boy worms his way into a ty...</td>\n",
       "    </tr>\n",
       "    <tr>\n",
       "      <th>7786</th>\n",
       "      <td>s7785</td>\n",
       "      <td>Movie</td>\n",
       "      <td>Zulu Man in Japan</td>\n",
       "      <td>NaN</td>\n",
       "      <td>Nasty C</td>\n",
       "      <td>NaN</td>\n",
       "      <td>September 25, 2020</td>\n",
       "      <td>TV-MA</td>\n",
       "      <td>44 min</td>\n",
       "      <td>Documentaries, International Movies, Music &amp; M...</td>\n",
       "      <td>In this documentary, South African rapper Nast...</td>\n",
       "    </tr>\n",
       "    <tr>\n",
       "      <th>7787</th>\n",
       "      <td>s7786</td>\n",
       "      <td>TV Show</td>\n",
       "      <td>Zumbo's Just Desserts</td>\n",
       "      <td>NaN</td>\n",
       "      <td>Adriano Zumbo, Rachel Khoo</td>\n",
       "      <td>Australia</td>\n",
       "      <td>October 31, 2020</td>\n",
       "      <td>TV-PG</td>\n",
       "      <td>1 Season</td>\n",
       "      <td>International TV Shows, Reality TV</td>\n",
       "      <td>Dessert wizard Adriano Zumbo looks for the nex...</td>\n",
       "    </tr>\n",
       "    <tr>\n",
       "      <th>7788</th>\n",
       "      <td>s7787</td>\n",
       "      <td>Movie</td>\n",
       "      <td>ZZ TOP: THAT LITTLE OL' BAND FROM TEXAS</td>\n",
       "      <td>Sam Dunn</td>\n",
       "      <td>NaN</td>\n",
       "      <td>United Kingdom, Canada, United States</td>\n",
       "      <td>March 1, 2020</td>\n",
       "      <td>TV-MA</td>\n",
       "      <td>90 min</td>\n",
       "      <td>Documentaries, Music &amp; Musicals</td>\n",
       "      <td>This documentary delves into the mystique behi...</td>\n",
       "    </tr>\n",
       "  </tbody>\n",
       "</table>\n",
       "</div>"
      ],
      "text/plain": [
       "     Show_Id Category                                    Title     Director  \\\n",
       "7784   s7783    Movie                                     Zozo  Josef Fares   \n",
       "7785   s7784    Movie                                   Zubaan  Mozez Singh   \n",
       "7786   s7785    Movie                        Zulu Man in Japan          NaN   \n",
       "7787   s7786  TV Show                    Zumbo's Just Desserts          NaN   \n",
       "7788   s7787    Movie  ZZ TOP: THAT LITTLE OL' BAND FROM TEXAS     Sam Dunn   \n",
       "\n",
       "                                                   Cast  \\\n",
       "7784  Imad Creidi, Antoinette Turk, Elias Gergi, Car...   \n",
       "7785  Vicky Kaushal, Sarah-Jane Dias, Raaghav Chanan...   \n",
       "7786                                            Nasty C   \n",
       "7787                         Adriano Zumbo, Rachel Khoo   \n",
       "7788                                                NaN   \n",
       "\n",
       "                                                Country        Release_Date  \\\n",
       "7784  Sweden, Czech Republic, United Kingdom, Denmar...    October 19, 2020   \n",
       "7785                                              India       March 2, 2019   \n",
       "7786                                                NaN  September 25, 2020   \n",
       "7787                                          Australia    October 31, 2020   \n",
       "7788              United Kingdom, Canada, United States       March 1, 2020   \n",
       "\n",
       "     Rating  Duration                                               Type  \\\n",
       "7784  TV-MA    99 min                       Dramas, International Movies   \n",
       "7785  TV-14   111 min     Dramas, International Movies, Music & Musicals   \n",
       "7786  TV-MA    44 min  Documentaries, International Movies, Music & M...   \n",
       "7787  TV-PG  1 Season                 International TV Shows, Reality TV   \n",
       "7788  TV-MA    90 min                    Documentaries, Music & Musicals   \n",
       "\n",
       "                                            Description  \n",
       "7784  When Lebanon's Civil War deprives Zozo of his ...  \n",
       "7785  A scrappy but poor boy worms his way into a ty...  \n",
       "7786  In this documentary, South African rapper Nast...  \n",
       "7787  Dessert wizard Adriano Zumbo looks for the nex...  \n",
       "7788  This documentary delves into the mystique behi...  "
      ]
     },
     "execution_count": 32,
     "metadata": {},
     "output_type": "execute_result"
    }
   ],
   "source": [
    "#2.Show bottom 10 records of the dataset\n",
    "df.tail(5)"
   ]
  },
  {
   "cell_type": "code",
   "execution_count": 34,
   "id": "d7c45855-5bbe-4276-b3d7-de512fa76f55",
   "metadata": {},
   "outputs": [
    {
     "data": {
      "text/plain": [
       "(7789, 11)"
      ]
     },
     "execution_count": 34,
     "metadata": {},
     "output_type": "execute_result"
    }
   ],
   "source": [
    "#3.Show no. of rows and columns \n",
    "df.shape"
   ]
  },
  {
   "cell_type": "code",
   "execution_count": 52,
   "id": "e59c33fa-0218-4b5a-b4e6-e4e1d6fe1601",
   "metadata": {},
   "outputs": [
    {
     "data": {
      "text/plain": [
       "85679"
      ]
     },
     "execution_count": 52,
     "metadata": {},
     "output_type": "execute_result"
    }
   ],
   "source": [
    "#4.Show no of total values(elements) in the dataset\n",
    "df.size"
   ]
  },
  {
   "cell_type": "code",
   "execution_count": 38,
   "id": "7050d04f-6f72-4193-b001-70decd65ad6b",
   "metadata": {},
   "outputs": [
    {
     "data": {
      "text/plain": [
       "Index(['Show_Id', 'Category', 'Title', 'Director', 'Cast', 'Country',\n",
       "       'Release_Date', 'Rating', 'Duration', 'Type', 'Description'],\n",
       "      dtype='object')"
      ]
     },
     "execution_count": 38,
     "metadata": {},
     "output_type": "execute_result"
    }
   ],
   "source": [
    "#5.Show the column names of the dataset\n",
    "df.columns"
   ]
  },
  {
   "cell_type": "code",
   "execution_count": 46,
   "id": "7134519b-9b01-4473-8e6e-75f220daa658",
   "metadata": {},
   "outputs": [
    {
     "data": {
      "text/plain": [
       "Show_Id         object\n",
       "Category        object\n",
       "Title           object\n",
       "Director        object\n",
       "Cast            object\n",
       "Country         object\n",
       "Release_Date    object\n",
       "Rating          object\n",
       "Duration        object\n",
       "Type            object\n",
       "Description     object\n",
       "dtype: object"
      ]
     },
     "execution_count": 46,
     "metadata": {},
     "output_type": "execute_result"
    }
   ],
   "source": [
    "#6.Show the data type of the columns of the dataset\n",
    "df.dtypes"
   ]
  },
  {
   "cell_type": "code",
   "execution_count": 50,
   "id": "ad810874-259a-4f1e-b52c-1042450496d9",
   "metadata": {},
   "outputs": [
    {
     "name": "stdout",
     "output_type": "stream",
     "text": [
      "<class 'pandas.core.frame.DataFrame'>\n",
      "RangeIndex: 7789 entries, 0 to 7788\n",
      "Data columns (total 11 columns):\n",
      " #   Column        Non-Null Count  Dtype \n",
      "---  ------        --------------  ----- \n",
      " 0   Show_Id       7789 non-null   object\n",
      " 1   Category      7789 non-null   object\n",
      " 2   Title         7789 non-null   object\n",
      " 3   Director      5401 non-null   object\n",
      " 4   Cast          7071 non-null   object\n",
      " 5   Country       7282 non-null   object\n",
      " 6   Release_Date  7779 non-null   object\n",
      " 7   Rating        7782 non-null   object\n",
      " 8   Duration      7789 non-null   object\n",
      " 9   Type          7789 non-null   object\n",
      " 10  Description   7789 non-null   object\n",
      "dtypes: object(11)\n",
      "memory usage: 669.5+ KB\n"
     ]
    }
   ],
   "source": [
    "#7.Show the indexes, column’s datatypes and memory usage\n",
    "df.info()"
   ]
  },
  {
   "cell_type": "markdown",
   "id": "7ccdcfc3-4f37-47ee-86ea-3cc7686d6207",
   "metadata": {},
   "source": [
    "# Task 1"
   ]
  },
  {
   "cell_type": "code",
   "execution_count": 65,
   "id": "114d4d11-64f9-4728-8835-992459acbc1b",
   "metadata": {},
   "outputs": [
    {
     "data": {
      "text/html": [
       "<div>\n",
       "<style scoped>\n",
       "    .dataframe tbody tr th:only-of-type {\n",
       "        vertical-align: middle;\n",
       "    }\n",
       "\n",
       "    .dataframe tbody tr th {\n",
       "        vertical-align: top;\n",
       "    }\n",
       "\n",
       "    .dataframe thead th {\n",
       "        text-align: right;\n",
       "    }\n",
       "</style>\n",
       "<table border=\"1\" class=\"dataframe\">\n",
       "  <thead>\n",
       "    <tr style=\"text-align: right;\">\n",
       "      <th></th>\n",
       "      <th>Show_Id</th>\n",
       "      <th>Category</th>\n",
       "      <th>Title</th>\n",
       "      <th>Director</th>\n",
       "      <th>Cast</th>\n",
       "      <th>Country</th>\n",
       "      <th>Release_Date</th>\n",
       "      <th>Rating</th>\n",
       "      <th>Duration</th>\n",
       "      <th>Type</th>\n",
       "      <th>Description</th>\n",
       "    </tr>\n",
       "  </thead>\n",
       "  <tbody>\n",
       "    <tr>\n",
       "      <th>6300</th>\n",
       "      <td>s684</td>\n",
       "      <td>Movie</td>\n",
       "      <td>Backfire</td>\n",
       "      <td>Dave Patten</td>\n",
       "      <td>Black Deniro, Byron \"Squally\" Vinson, Dominic ...</td>\n",
       "      <td>United States</td>\n",
       "      <td>April 5, 2019</td>\n",
       "      <td>TV-MA</td>\n",
       "      <td>97 min</td>\n",
       "      <td>Dramas, Independent Movies, Thrillers</td>\n",
       "      <td>When two would-be robbers accidentally kill a ...</td>\n",
       "    </tr>\n",
       "    <tr>\n",
       "      <th>6622</th>\n",
       "      <td>s6621</td>\n",
       "      <td>Movie</td>\n",
       "      <td>The Lost Okoroshi</td>\n",
       "      <td>Abba T. Makama</td>\n",
       "      <td>Seun Ajayi, Judith Audu, Tope Tedela, Ifu Enna...</td>\n",
       "      <td>Nigeria</td>\n",
       "      <td>September 4, 2020</td>\n",
       "      <td>TV-MA</td>\n",
       "      <td>94 min</td>\n",
       "      <td>Comedies, Dramas, Independent Movies</td>\n",
       "      <td>A disillusioned security guard transforms into...</td>\n",
       "    </tr>\n",
       "  </tbody>\n",
       "</table>\n",
       "</div>"
      ],
      "text/plain": [
       "     Show_Id Category              Title        Director  \\\n",
       "6300    s684    Movie           Backfire     Dave Patten   \n",
       "6622   s6621    Movie  The Lost Okoroshi  Abba T. Makama   \n",
       "\n",
       "                                                   Cast        Country  \\\n",
       "6300  Black Deniro, Byron \"Squally\" Vinson, Dominic ...  United States   \n",
       "6622  Seun Ajayi, Judith Audu, Tope Tedela, Ifu Enna...        Nigeria   \n",
       "\n",
       "           Release_Date Rating Duration  \\\n",
       "6300      April 5, 2019  TV-MA   97 min   \n",
       "6622  September 4, 2020  TV-MA   94 min   \n",
       "\n",
       "                                       Type  \\\n",
       "6300  Dramas, Independent Movies, Thrillers   \n",
       "6622   Comedies, Dramas, Independent Movies   \n",
       "\n",
       "                                            Description  \n",
       "6300  When two would-be robbers accidentally kill a ...  \n",
       "6622  A disillusioned security guard transforms into...  "
      ]
     },
     "execution_count": 65,
     "metadata": {},
     "output_type": "execute_result"
    }
   ],
   "source": [
    "#Task 1 : Check and show whether there are any duplicate records in the dataset.\n",
    "duplicates = df[df.duplicated()]\n",
    "duplicates"
   ]
  },
  {
   "cell_type": "code",
   "execution_count": 84,
   "id": "05a08ae1-438a-485c-a2d5-6c717fc2829b",
   "metadata": {},
   "outputs": [],
   "source": [
    "#Remove the duplicates permanently and show the dataset\n",
    "df1 = df.drop_duplicates(subset=['Title'], keep='first')"
   ]
  },
  {
   "cell_type": "code",
   "execution_count": 88,
   "id": "11adf28e-641b-4888-b5ed-10e61c5548ca",
   "metadata": {},
   "outputs": [
    {
     "data": {
      "text/html": [
       "<div>\n",
       "<style scoped>\n",
       "    .dataframe tbody tr th:only-of-type {\n",
       "        vertical-align: middle;\n",
       "    }\n",
       "\n",
       "    .dataframe tbody tr th {\n",
       "        vertical-align: top;\n",
       "    }\n",
       "\n",
       "    .dataframe thead th {\n",
       "        text-align: right;\n",
       "    }\n",
       "</style>\n",
       "<table border=\"1\" class=\"dataframe\">\n",
       "  <thead>\n",
       "    <tr style=\"text-align: right;\">\n",
       "      <th></th>\n",
       "      <th>Show_Id</th>\n",
       "      <th>Category</th>\n",
       "      <th>Title</th>\n",
       "      <th>Director</th>\n",
       "      <th>Cast</th>\n",
       "      <th>Country</th>\n",
       "      <th>Release_Date</th>\n",
       "      <th>Rating</th>\n",
       "      <th>Duration</th>\n",
       "      <th>Type</th>\n",
       "      <th>Description</th>\n",
       "    </tr>\n",
       "  </thead>\n",
       "  <tbody>\n",
       "  </tbody>\n",
       "</table>\n",
       "</div>"
      ],
      "text/plain": [
       "Empty DataFrame\n",
       "Columns: [Show_Id, Category, Title, Director, Cast, Country, Release_Date, Rating, Duration, Type, Description]\n",
       "Index: []"
      ]
     },
     "execution_count": 88,
     "metadata": {},
     "output_type": "execute_result"
    }
   ],
   "source": [
    "duplicates = df1[df1.duplicated()]\n",
    "duplicates"
   ]
  },
  {
   "cell_type": "code",
   "execution_count": 90,
   "id": "6b72aefb-faf4-4664-b587-0a0e61e28442",
   "metadata": {},
   "outputs": [
    {
     "data": {
      "text/html": [
       "<div>\n",
       "<style scoped>\n",
       "    .dataframe tbody tr th:only-of-type {\n",
       "        vertical-align: middle;\n",
       "    }\n",
       "\n",
       "    .dataframe tbody tr th {\n",
       "        vertical-align: top;\n",
       "    }\n",
       "\n",
       "    .dataframe thead th {\n",
       "        text-align: right;\n",
       "    }\n",
       "</style>\n",
       "<table border=\"1\" class=\"dataframe\">\n",
       "  <thead>\n",
       "    <tr style=\"text-align: right;\">\n",
       "      <th></th>\n",
       "      <th>Show_Id</th>\n",
       "      <th>Category</th>\n",
       "      <th>Title</th>\n",
       "      <th>Director</th>\n",
       "      <th>Cast</th>\n",
       "      <th>Country</th>\n",
       "      <th>Release_Date</th>\n",
       "      <th>Rating</th>\n",
       "      <th>Duration</th>\n",
       "      <th>Type</th>\n",
       "      <th>Description</th>\n",
       "    </tr>\n",
       "  </thead>\n",
       "  <tbody>\n",
       "    <tr>\n",
       "      <th>0</th>\n",
       "      <td>s1</td>\n",
       "      <td>TV Show</td>\n",
       "      <td>3%</td>\n",
       "      <td>NaN</td>\n",
       "      <td>João Miguel, Bianca Comparato, Michel Gomes, R...</td>\n",
       "      <td>Brazil</td>\n",
       "      <td>August 14, 2020</td>\n",
       "      <td>TV-MA</td>\n",
       "      <td>4 Seasons</td>\n",
       "      <td>International TV Shows, TV Dramas, TV Sci-Fi &amp;...</td>\n",
       "      <td>In a future where the elite inhabit an island ...</td>\n",
       "    </tr>\n",
       "    <tr>\n",
       "      <th>1</th>\n",
       "      <td>s2</td>\n",
       "      <td>Movie</td>\n",
       "      <td>07:19</td>\n",
       "      <td>Jorge Michel Grau</td>\n",
       "      <td>Demián Bichir, Héctor Bonilla, Oscar Serrano, ...</td>\n",
       "      <td>Mexico</td>\n",
       "      <td>December 23, 2016</td>\n",
       "      <td>TV-MA</td>\n",
       "      <td>93 min</td>\n",
       "      <td>Dramas, International Movies</td>\n",
       "      <td>After a devastating earthquake hits Mexico Cit...</td>\n",
       "    </tr>\n",
       "    <tr>\n",
       "      <th>2</th>\n",
       "      <td>s3</td>\n",
       "      <td>Movie</td>\n",
       "      <td>23:59</td>\n",
       "      <td>Gilbert Chan</td>\n",
       "      <td>Tedd Chan, Stella Chung, Henley Hii, Lawrence ...</td>\n",
       "      <td>Singapore</td>\n",
       "      <td>December 20, 2018</td>\n",
       "      <td>R</td>\n",
       "      <td>78 min</td>\n",
       "      <td>Horror Movies, International Movies</td>\n",
       "      <td>When an army recruit is found dead, his fellow...</td>\n",
       "    </tr>\n",
       "    <tr>\n",
       "      <th>3</th>\n",
       "      <td>s4</td>\n",
       "      <td>Movie</td>\n",
       "      <td>9</td>\n",
       "      <td>Shane Acker</td>\n",
       "      <td>Elijah Wood, John C. Reilly, Jennifer Connelly...</td>\n",
       "      <td>United States</td>\n",
       "      <td>November 16, 2017</td>\n",
       "      <td>PG-13</td>\n",
       "      <td>80 min</td>\n",
       "      <td>Action &amp; Adventure, Independent Movies, Sci-Fi...</td>\n",
       "      <td>In a postapocalyptic world, rag-doll robots hi...</td>\n",
       "    </tr>\n",
       "    <tr>\n",
       "      <th>4</th>\n",
       "      <td>s5</td>\n",
       "      <td>Movie</td>\n",
       "      <td>21</td>\n",
       "      <td>Robert Luketic</td>\n",
       "      <td>Jim Sturgess, Kevin Spacey, Kate Bosworth, Aar...</td>\n",
       "      <td>United States</td>\n",
       "      <td>January 1, 2020</td>\n",
       "      <td>PG-13</td>\n",
       "      <td>123 min</td>\n",
       "      <td>Dramas</td>\n",
       "      <td>A brilliant group of students become card-coun...</td>\n",
       "    </tr>\n",
       "    <tr>\n",
       "      <th>...</th>\n",
       "      <td>...</td>\n",
       "      <td>...</td>\n",
       "      <td>...</td>\n",
       "      <td>...</td>\n",
       "      <td>...</td>\n",
       "      <td>...</td>\n",
       "      <td>...</td>\n",
       "      <td>...</td>\n",
       "      <td>...</td>\n",
       "      <td>...</td>\n",
       "      <td>...</td>\n",
       "    </tr>\n",
       "    <tr>\n",
       "      <th>7784</th>\n",
       "      <td>s7783</td>\n",
       "      <td>Movie</td>\n",
       "      <td>Zozo</td>\n",
       "      <td>Josef Fares</td>\n",
       "      <td>Imad Creidi, Antoinette Turk, Elias Gergi, Car...</td>\n",
       "      <td>Sweden, Czech Republic, United Kingdom, Denmar...</td>\n",
       "      <td>October 19, 2020</td>\n",
       "      <td>TV-MA</td>\n",
       "      <td>99 min</td>\n",
       "      <td>Dramas, International Movies</td>\n",
       "      <td>When Lebanon's Civil War deprives Zozo of his ...</td>\n",
       "    </tr>\n",
       "    <tr>\n",
       "      <th>7785</th>\n",
       "      <td>s7784</td>\n",
       "      <td>Movie</td>\n",
       "      <td>Zubaan</td>\n",
       "      <td>Mozez Singh</td>\n",
       "      <td>Vicky Kaushal, Sarah-Jane Dias, Raaghav Chanan...</td>\n",
       "      <td>India</td>\n",
       "      <td>March 2, 2019</td>\n",
       "      <td>TV-14</td>\n",
       "      <td>111 min</td>\n",
       "      <td>Dramas, International Movies, Music &amp; Musicals</td>\n",
       "      <td>A scrappy but poor boy worms his way into a ty...</td>\n",
       "    </tr>\n",
       "    <tr>\n",
       "      <th>7786</th>\n",
       "      <td>s7785</td>\n",
       "      <td>Movie</td>\n",
       "      <td>Zulu Man in Japan</td>\n",
       "      <td>NaN</td>\n",
       "      <td>Nasty C</td>\n",
       "      <td>NaN</td>\n",
       "      <td>September 25, 2020</td>\n",
       "      <td>TV-MA</td>\n",
       "      <td>44 min</td>\n",
       "      <td>Documentaries, International Movies, Music &amp; M...</td>\n",
       "      <td>In this documentary, South African rapper Nast...</td>\n",
       "    </tr>\n",
       "    <tr>\n",
       "      <th>7787</th>\n",
       "      <td>s7786</td>\n",
       "      <td>TV Show</td>\n",
       "      <td>Zumbo's Just Desserts</td>\n",
       "      <td>NaN</td>\n",
       "      <td>Adriano Zumbo, Rachel Khoo</td>\n",
       "      <td>Australia</td>\n",
       "      <td>October 31, 2020</td>\n",
       "      <td>TV-PG</td>\n",
       "      <td>1 Season</td>\n",
       "      <td>International TV Shows, Reality TV</td>\n",
       "      <td>Dessert wizard Adriano Zumbo looks for the nex...</td>\n",
       "    </tr>\n",
       "    <tr>\n",
       "      <th>7788</th>\n",
       "      <td>s7787</td>\n",
       "      <td>Movie</td>\n",
       "      <td>ZZ TOP: THAT LITTLE OL' BAND FROM TEXAS</td>\n",
       "      <td>Sam Dunn</td>\n",
       "      <td>NaN</td>\n",
       "      <td>United Kingdom, Canada, United States</td>\n",
       "      <td>March 1, 2020</td>\n",
       "      <td>TV-MA</td>\n",
       "      <td>90 min</td>\n",
       "      <td>Documentaries, Music &amp; Musicals</td>\n",
       "      <td>This documentary delves into the mystique behi...</td>\n",
       "    </tr>\n",
       "  </tbody>\n",
       "</table>\n",
       "<p>7787 rows × 11 columns</p>\n",
       "</div>"
      ],
      "text/plain": [
       "     Show_Id Category                                    Title  \\\n",
       "0         s1  TV Show                                       3%   \n",
       "1         s2    Movie                                    07:19   \n",
       "2         s3    Movie                                    23:59   \n",
       "3         s4    Movie                                        9   \n",
       "4         s5    Movie                                       21   \n",
       "...      ...      ...                                      ...   \n",
       "7784   s7783    Movie                                     Zozo   \n",
       "7785   s7784    Movie                                   Zubaan   \n",
       "7786   s7785    Movie                        Zulu Man in Japan   \n",
       "7787   s7786  TV Show                    Zumbo's Just Desserts   \n",
       "7788   s7787    Movie  ZZ TOP: THAT LITTLE OL' BAND FROM TEXAS   \n",
       "\n",
       "               Director                                               Cast  \\\n",
       "0                   NaN  João Miguel, Bianca Comparato, Michel Gomes, R...   \n",
       "1     Jorge Michel Grau  Demián Bichir, Héctor Bonilla, Oscar Serrano, ...   \n",
       "2          Gilbert Chan  Tedd Chan, Stella Chung, Henley Hii, Lawrence ...   \n",
       "3           Shane Acker  Elijah Wood, John C. Reilly, Jennifer Connelly...   \n",
       "4        Robert Luketic  Jim Sturgess, Kevin Spacey, Kate Bosworth, Aar...   \n",
       "...                 ...                                                ...   \n",
       "7784        Josef Fares  Imad Creidi, Antoinette Turk, Elias Gergi, Car...   \n",
       "7785        Mozez Singh  Vicky Kaushal, Sarah-Jane Dias, Raaghav Chanan...   \n",
       "7786                NaN                                            Nasty C   \n",
       "7787                NaN                         Adriano Zumbo, Rachel Khoo   \n",
       "7788           Sam Dunn                                                NaN   \n",
       "\n",
       "                                                Country        Release_Date  \\\n",
       "0                                                Brazil     August 14, 2020   \n",
       "1                                                Mexico   December 23, 2016   \n",
       "2                                             Singapore   December 20, 2018   \n",
       "3                                         United States   November 16, 2017   \n",
       "4                                         United States     January 1, 2020   \n",
       "...                                                 ...                 ...   \n",
       "7784  Sweden, Czech Republic, United Kingdom, Denmar...    October 19, 2020   \n",
       "7785                                              India       March 2, 2019   \n",
       "7786                                                NaN  September 25, 2020   \n",
       "7787                                          Australia    October 31, 2020   \n",
       "7788              United Kingdom, Canada, United States       March 1, 2020   \n",
       "\n",
       "     Rating   Duration                                               Type  \\\n",
       "0     TV-MA  4 Seasons  International TV Shows, TV Dramas, TV Sci-Fi &...   \n",
       "1     TV-MA     93 min                       Dramas, International Movies   \n",
       "2         R     78 min                Horror Movies, International Movies   \n",
       "3     PG-13     80 min  Action & Adventure, Independent Movies, Sci-Fi...   \n",
       "4     PG-13    123 min                                             Dramas   \n",
       "...     ...        ...                                                ...   \n",
       "7784  TV-MA     99 min                       Dramas, International Movies   \n",
       "7785  TV-14    111 min     Dramas, International Movies, Music & Musicals   \n",
       "7786  TV-MA     44 min  Documentaries, International Movies, Music & M...   \n",
       "7787  TV-PG   1 Season                 International TV Shows, Reality TV   \n",
       "7788  TV-MA     90 min                    Documentaries, Music & Musicals   \n",
       "\n",
       "                                            Description  \n",
       "0     In a future where the elite inhabit an island ...  \n",
       "1     After a devastating earthquake hits Mexico Cit...  \n",
       "2     When an army recruit is found dead, his fellow...  \n",
       "3     In a postapocalyptic world, rag-doll robots hi...  \n",
       "4     A brilliant group of students become card-coun...  \n",
       "...                                                 ...  \n",
       "7784  When Lebanon's Civil War deprives Zozo of his ...  \n",
       "7785  A scrappy but poor boy worms his way into a ty...  \n",
       "7786  In this documentary, South African rapper Nast...  \n",
       "7787  Dessert wizard Adriano Zumbo looks for the nex...  \n",
       "7788  This documentary delves into the mystique behi...  \n",
       "\n",
       "[7787 rows x 11 columns]"
      ]
     },
     "execution_count": 90,
     "metadata": {},
     "output_type": "execute_result"
    }
   ],
   "source": [
    "df1"
   ]
  },
  {
   "cell_type": "markdown",
   "id": "f08b6a7c-fbc8-49d9-a19b-bbfa61557bd0",
   "metadata": {},
   "source": [
    "# Task 2"
   ]
  },
  {
   "cell_type": "code",
   "execution_count": 97,
   "id": "baa78e82-9d65-468a-b4a8-40e30e1c57ae",
   "metadata": {},
   "outputs": [
    {
     "data": {
      "text/html": [
       "<div>\n",
       "<style scoped>\n",
       "    .dataframe tbody tr th:only-of-type {\n",
       "        vertical-align: middle;\n",
       "    }\n",
       "\n",
       "    .dataframe tbody tr th {\n",
       "        vertical-align: top;\n",
       "    }\n",
       "\n",
       "    .dataframe thead th {\n",
       "        text-align: right;\n",
       "    }\n",
       "</style>\n",
       "<table border=\"1\" class=\"dataframe\">\n",
       "  <thead>\n",
       "    <tr style=\"text-align: right;\">\n",
       "      <th></th>\n",
       "      <th>Show_Id</th>\n",
       "      <th>Category</th>\n",
       "      <th>Title</th>\n",
       "      <th>Director</th>\n",
       "      <th>Cast</th>\n",
       "      <th>Country</th>\n",
       "      <th>Release_Date</th>\n",
       "      <th>Rating</th>\n",
       "      <th>Duration</th>\n",
       "      <th>Type</th>\n",
       "      <th>Description</th>\n",
       "    </tr>\n",
       "  </thead>\n",
       "  <tbody>\n",
       "    <tr>\n",
       "      <th>0</th>\n",
       "      <td>False</td>\n",
       "      <td>False</td>\n",
       "      <td>False</td>\n",
       "      <td>True</td>\n",
       "      <td>False</td>\n",
       "      <td>False</td>\n",
       "      <td>False</td>\n",
       "      <td>False</td>\n",
       "      <td>False</td>\n",
       "      <td>False</td>\n",
       "      <td>False</td>\n",
       "    </tr>\n",
       "    <tr>\n",
       "      <th>1</th>\n",
       "      <td>False</td>\n",
       "      <td>False</td>\n",
       "      <td>False</td>\n",
       "      <td>False</td>\n",
       "      <td>False</td>\n",
       "      <td>False</td>\n",
       "      <td>False</td>\n",
       "      <td>False</td>\n",
       "      <td>False</td>\n",
       "      <td>False</td>\n",
       "      <td>False</td>\n",
       "    </tr>\n",
       "    <tr>\n",
       "      <th>2</th>\n",
       "      <td>False</td>\n",
       "      <td>False</td>\n",
       "      <td>False</td>\n",
       "      <td>False</td>\n",
       "      <td>False</td>\n",
       "      <td>False</td>\n",
       "      <td>False</td>\n",
       "      <td>False</td>\n",
       "      <td>False</td>\n",
       "      <td>False</td>\n",
       "      <td>False</td>\n",
       "    </tr>\n",
       "    <tr>\n",
       "      <th>3</th>\n",
       "      <td>False</td>\n",
       "      <td>False</td>\n",
       "      <td>False</td>\n",
       "      <td>False</td>\n",
       "      <td>False</td>\n",
       "      <td>False</td>\n",
       "      <td>False</td>\n",
       "      <td>False</td>\n",
       "      <td>False</td>\n",
       "      <td>False</td>\n",
       "      <td>False</td>\n",
       "    </tr>\n",
       "    <tr>\n",
       "      <th>4</th>\n",
       "      <td>False</td>\n",
       "      <td>False</td>\n",
       "      <td>False</td>\n",
       "      <td>False</td>\n",
       "      <td>False</td>\n",
       "      <td>False</td>\n",
       "      <td>False</td>\n",
       "      <td>False</td>\n",
       "      <td>False</td>\n",
       "      <td>False</td>\n",
       "      <td>False</td>\n",
       "    </tr>\n",
       "    <tr>\n",
       "      <th>...</th>\n",
       "      <td>...</td>\n",
       "      <td>...</td>\n",
       "      <td>...</td>\n",
       "      <td>...</td>\n",
       "      <td>...</td>\n",
       "      <td>...</td>\n",
       "      <td>...</td>\n",
       "      <td>...</td>\n",
       "      <td>...</td>\n",
       "      <td>...</td>\n",
       "      <td>...</td>\n",
       "    </tr>\n",
       "    <tr>\n",
       "      <th>7784</th>\n",
       "      <td>False</td>\n",
       "      <td>False</td>\n",
       "      <td>False</td>\n",
       "      <td>False</td>\n",
       "      <td>False</td>\n",
       "      <td>False</td>\n",
       "      <td>False</td>\n",
       "      <td>False</td>\n",
       "      <td>False</td>\n",
       "      <td>False</td>\n",
       "      <td>False</td>\n",
       "    </tr>\n",
       "    <tr>\n",
       "      <th>7785</th>\n",
       "      <td>False</td>\n",
       "      <td>False</td>\n",
       "      <td>False</td>\n",
       "      <td>False</td>\n",
       "      <td>False</td>\n",
       "      <td>False</td>\n",
       "      <td>False</td>\n",
       "      <td>False</td>\n",
       "      <td>False</td>\n",
       "      <td>False</td>\n",
       "      <td>False</td>\n",
       "    </tr>\n",
       "    <tr>\n",
       "      <th>7786</th>\n",
       "      <td>False</td>\n",
       "      <td>False</td>\n",
       "      <td>False</td>\n",
       "      <td>True</td>\n",
       "      <td>False</td>\n",
       "      <td>True</td>\n",
       "      <td>False</td>\n",
       "      <td>False</td>\n",
       "      <td>False</td>\n",
       "      <td>False</td>\n",
       "      <td>False</td>\n",
       "    </tr>\n",
       "    <tr>\n",
       "      <th>7787</th>\n",
       "      <td>False</td>\n",
       "      <td>False</td>\n",
       "      <td>False</td>\n",
       "      <td>True</td>\n",
       "      <td>False</td>\n",
       "      <td>False</td>\n",
       "      <td>False</td>\n",
       "      <td>False</td>\n",
       "      <td>False</td>\n",
       "      <td>False</td>\n",
       "      <td>False</td>\n",
       "    </tr>\n",
       "    <tr>\n",
       "      <th>7788</th>\n",
       "      <td>False</td>\n",
       "      <td>False</td>\n",
       "      <td>False</td>\n",
       "      <td>False</td>\n",
       "      <td>True</td>\n",
       "      <td>False</td>\n",
       "      <td>False</td>\n",
       "      <td>False</td>\n",
       "      <td>False</td>\n",
       "      <td>False</td>\n",
       "      <td>False</td>\n",
       "    </tr>\n",
       "  </tbody>\n",
       "</table>\n",
       "<p>7787 rows × 11 columns</p>\n",
       "</div>"
      ],
      "text/plain": [
       "      Show_Id  Category  Title  Director   Cast  Country  Release_Date  \\\n",
       "0       False     False  False      True  False    False         False   \n",
       "1       False     False  False     False  False    False         False   \n",
       "2       False     False  False     False  False    False         False   \n",
       "3       False     False  False     False  False    False         False   \n",
       "4       False     False  False     False  False    False         False   \n",
       "...       ...       ...    ...       ...    ...      ...           ...   \n",
       "7784    False     False  False     False  False    False         False   \n",
       "7785    False     False  False     False  False    False         False   \n",
       "7786    False     False  False      True  False     True         False   \n",
       "7787    False     False  False      True  False    False         False   \n",
       "7788    False     False  False     False   True    False         False   \n",
       "\n",
       "      Rating  Duration   Type  Description  \n",
       "0      False     False  False        False  \n",
       "1      False     False  False        False  \n",
       "2      False     False  False        False  \n",
       "3      False     False  False        False  \n",
       "4      False     False  False        False  \n",
       "...      ...       ...    ...          ...  \n",
       "7784   False     False  False        False  \n",
       "7785   False     False  False        False  \n",
       "7786   False     False  False        False  \n",
       "7787   False     False  False        False  \n",
       "7788   False     False  False        False  \n",
       "\n",
       "[7787 rows x 11 columns]"
      ]
     },
     "execution_count": 97,
     "metadata": {},
     "output_type": "execute_result"
    }
   ],
   "source": [
    "#Task 2: Show the null values that are present in the dataset\n",
    "#Show the count of the null values in each column\n",
    "#Create a heatmap and show the null value count\n",
    "null=df.isnull()\n",
    "null"
   ]
  },
  {
   "cell_type": "code",
   "execution_count": 122,
   "id": "8f7fa43a-cbf9-4aea-bdaf-a11eeaed94ad",
   "metadata": {},
   "outputs": [
    {
     "name": "stdout",
     "output_type": "stream",
     "text": [
      "Show_Id            0\n",
      "Category           0\n",
      "Title              0\n",
      "Director        2388\n",
      "Cast             718\n",
      "Country          507\n",
      "Release_Date      10\n",
      "Rating             7\n",
      "Duration           0\n",
      "Type               0\n",
      "Description        0\n",
      "dtype: int64\n"
     ]
    }
   ],
   "source": [
    "#Show the count of the null values in each column\n",
    "print(df1.isnull().sum())"
   ]
  },
  {
   "cell_type": "code",
   "execution_count": 128,
   "id": "1758d861-74bb-4783-ba05-6e6f5c5976c1",
   "metadata": {},
   "outputs": [
    {
     "data": {
      "image/png": "[encoded data removed]",
      "text/plain": [
       "<Figure size 800x600 with 1 Axes>"
      ]
     },
     "metadata": {},
     "output_type": "display_data"
    }
   ],
   "source": [
    "import seaborn as sns\n",
    "import matplotlib.pyplot as plt\n",
    "plt.figure(figsize=(8, 6))\n",
    "sns.heatmap(df.isnull(), cbar=False, cmap='viridis', yticklabels=False)\n",
    "plt.title('Heatmap of Missing (Null) Values')\n",
    "plt.show()"
   ]
  },
  {
   "cell_type": "markdown",
   "id": "e208d153-5418-4b4e-936f-6d1c4f8901df",
   "metadata": {},
   "source": [
    "# Task 3"
   ]
  },
  {
   "cell_type": "code",
   "execution_count": 133,
   "id": "10dda3d9-161d-488f-a81c-4d6d827e4981",
   "metadata": {},
   "outputs": [
    {
     "data": {
      "text/html": [
       "<div>\n",
       "<style scoped>\n",
       "    .dataframe tbody tr th:only-of-type {\n",
       "        vertical-align: middle;\n",
       "    }\n",
       "\n",
       "    .dataframe tbody tr th {\n",
       "        vertical-align: top;\n",
       "    }\n",
       "\n",
       "    .dataframe thead th {\n",
       "        text-align: right;\n",
       "    }\n",
       "</style>\n",
       "<table border=\"1\" class=\"dataframe\">\n",
       "  <thead>\n",
       "    <tr style=\"text-align: right;\">\n",
       "      <th></th>\n",
       "      <th>Show_Id</th>\n",
       "      <th>Director</th>\n",
       "    </tr>\n",
       "  </thead>\n",
       "  <tbody>\n",
       "    <tr>\n",
       "      <th>2832</th>\n",
       "      <td>s2833</td>\n",
       "      <td>Robin Wright, David Fincher, Gerald McRaney, J...</td>\n",
       "    </tr>\n",
       "  </tbody>\n",
       "</table>\n",
       "</div>"
      ],
      "text/plain": [
       "     Show_Id                                           Director\n",
       "2832   s2833  Robin Wright, David Fincher, Gerald McRaney, J..."
      ]
     },
     "execution_count": 133,
     "metadata": {},
     "output_type": "execute_result"
    }
   ],
   "source": [
    "#Task 3 :For ‘House of Cards’, what is the show id and director name.\n",
    "df[df['Title'] == 'House of Cards'][['Show_Id', 'Director']]"
   ]
  },
  {
   "cell_type": "markdown",
   "id": "d7ebd07a-d054-4b8b-9fc9-169fb4224b52",
   "metadata": {},
   "source": [
    "# TASK 4"
   ]
  },
  {
   "cell_type": "code",
   "execution_count": 159,
   "id": "a02739da-df98-4093-a7d3-4ba1a207e5cc",
   "metadata": {},
   "outputs": [
    {
     "name": "stdout",
     "output_type": "stream",
     "text": [
      "Year with most releases: 2019\n",
      "Category\n",
      "Movie      1497.0\n",
      "TV Show     639.0\n",
      "total      2136.0\n",
      "Name: 2019, dtype: float64\n"
     ]
    },
    {
     "data": {
      "image/png": "[encoded data removed]",
      "text/plain": [
       "<Figure size 1200x600 with 1 Axes>"
      ]
     },
     "metadata": {},
     "output_type": "display_data"
    }
   ],
   "source": [
    "#Task 4 : In which year highest number of tv shows and movies were released ?\n",
    "#Show the count for individual\n",
    "#Show them in bar graph as well\n",
    "# Convert 'Release_Date' to datetime and extract the year\n",
    "df1['Release_Date'] = pd.to_datetime(df1['Release_Date'], errors='coerce')\n",
    "df1['year'] = df1['Release_Date'].dt.year\n",
    "\n",
    "# Drop rows with missing year\n",
    "df1 = df1.dropna(subset=['year'])\n",
    "\n",
    "# Count number of Movies and TV Shows per year\n",
    "counts = df1.groupby(['year', 'Category']).size().unstack().fillna(0)\n",
    "\n",
    "# Find the year with the highest total releases\n",
    "counts['total'] = counts.sum(axis=1)\n",
    "max_year = counts['total'].idxmax()\n",
    "print(f\"Year with most releases: {int(max_year)}\")\n",
    "print(counts.loc[max_year])\n",
    "\n",
    "# Plot the bar chart\n",
    "counts[['Movie', 'TV Show']].plot(kind='bar', figsize=(12,6), colormap='Pastel1')\n",
    "plt.title('Number of Movies and TV Shows Released per Year')\n",
    "plt.xlabel('Year')\n",
    "plt.ylabel('Count')\n",
    "plt.xticks(rotation=45)\n",
    "plt.grid(axis='y', linestyle='--', alpha=0.6)\n",
    "plt.tight_layout()\n",
    "plt.show()\n"
   ]
  },
  {
   "cell_type": "markdown",
   "id": "89e7a308-a6b0-43fb-bfcf-a2029e2fd724",
   "metadata": {},
   "source": [
    "# Task 5"
   ]
  },
  {
   "cell_type": "code",
   "execution_count": 184,
   "id": "055d9125-62bd-40ea-bfe3-312f19b0b968",
   "metadata": {},
   "outputs": [
    {
     "name": "stdout",
     "output_type": "stream",
     "text": [
      "Total Movies and TV Shows: 7689\n",
      "Category\n",
      "Movie      5377\n",
      "TV Show    2312\n",
      "Name: count, dtype: int64\n"
     ]
    },
    {
     "data": {
      "image/png": "[encoded data removed]",
      "text/plain": [
       "<Figure size 600x400 with 1 Axes>"
      ]
     },
     "metadata": {},
     "output_type": "display_data"
    }
   ],
   "source": [
    "#Task 5 : How many movies and tv shows are there in the dataset?\n",
    "#Show the count of movies and tv shows separately\n",
    "#Show them using count plot as well.\n",
    "\n",
    "# Count number of Movies and TV Shows\n",
    "category_counts = df1['Category'].value_counts()\n",
    "print(\"Total Movies and TV Shows:\",category_counts.sum())\n",
    "print(category_counts)\n",
    "\n",
    "# Plot using seaborn countplot\n",
    "plt.figure(figsize=(6,4))\n",
    "sns.countplot(data=df1, x='Category', hue='Category', palette='Set2', legend=False)\n",
    "plt.title(\"Count of Movies vs TV Shows\")\n",
    "plt.xlabel(\"Category\")\n",
    "plt.ylabel(\"Count\")\n",
    "plt.grid(axis='y', linestyle='--', alpha=0.4)\n",
    "plt.tight_layout()\n",
    "plt.show()\n"
   ]
  },
  {
   "cell_type": "markdown",
   "id": "6f67aef4-8b40-4ebf-93a9-eb08ea668245",
   "metadata": {},
   "source": [
    "# TASK 6"
   ]
  },
  {
   "cell_type": "code",
   "execution_count": 190,
   "id": "84573635-f1a5-4ed0-9946-3bf4fc70d898",
   "metadata": {},
   "outputs": [
    {
     "name": "stdout",
     "output_type": "stream",
     "text": [
      "                                        Title  year\n",
      "4                                          21  2020\n",
      "6                                         122  2020\n",
      "14                                       3022  2020\n",
      "27                                     #Alive  2020\n",
      "28              #AnneFrank - Parallel Stories  2020\n",
      "...                                       ...   ...\n",
      "7762                                Zaki Chan  2020\n",
      "7783                                     Zoom  2020\n",
      "7784                                     Zozo  2020\n",
      "7786                        Zulu Man in Japan  2020\n",
      "7788  ZZ TOP: THAT LITTLE OL' BAND FROM TEXAS  2020\n",
      "\n",
      "[1312 rows x 2 columns]\n"
     ]
    }
   ],
   "source": [
    "#Task 6 :\n",
    "#Show the movies that were released in the year 2000\n",
    "#Show the title of tv shows that were released only in india\n",
    "#Show the Top 10 directors who gave the highest number of TV shows and movies to Netflix.\n",
    "#Show all the records where “category is movie and type is comedies” or “county is united kingdom”\n",
    "#In how many movies/shows, Tom Cruise were cast?\n",
    "#Show the records as well\n",
    "\n",
    "#Show the movies that were released in the year 2000\n",
    "movies_2000 = df1[(df1['Category'] == 'Movie') & (df1['year'] ==2020)]\n",
    "print(movies_2000[['Title', 'year']])"
   ]
  },
  {
   "cell_type": "code",
   "execution_count": 187,
   "id": "a8ee3625-3beb-4141-8e87-26b4e43f0bce",
   "metadata": {},
   "outputs": [
    {
     "data": {
      "text/plain": [
       "Index(['Show_Id', 'Category', 'Title', 'Director', 'Cast', 'Country',\n",
       "       'Release_Date', 'Rating', 'Duration', 'Type', 'Description', 'year'],\n",
       "      dtype='object')"
      ]
     },
     "execution_count": 187,
     "metadata": {},
     "output_type": "execute_result"
    }
   ],
   "source": [
    "df.columns"
   ]
  },
  {
   "cell_type": "code",
   "execution_count": 178,
   "id": "92b6486e-3468-4353-baff-1ac602176569",
   "metadata": {},
   "outputs": [
    {
     "name": "stdout",
     "output_type": "stream",
     "text": [
      "[2020. 2016. 2018. 2017. 2019. 2021. 2015. 2013. 2011. 2012. 2014. 2008.\n",
      " 2009. 2010.]\n"
     ]
    }
   ],
   "source": [
    "print(df['year'].unique())"
   ]
  },
  {
   "cell_type": "code",
   "execution_count": 220,
   "id": "7851f75e-1030-4beb-a4d5-e3a93bdff2cc",
   "metadata": {},
   "outputs": [
    {
     "name": "stdout",
     "output_type": "stream",
     "text": [
      "TV Shows released only in India:\n",
      "['21 Sarfarosh: Saragarhi 1897' '7 (Seven)' 'Agent Raghav'\n",
      " 'Akbar\\xa0Birbal' 'Anjaan: Rural Myths' 'Anjaan: Special Crimes Unit'\n",
      " 'Bad Boy Billionaires: India' 'Badalte Rishton Ki Dastaan'\n",
      " 'Bard of Blood' 'Betaal' 'Bh Se Bhade' 'Bhaag Beanie Bhaag'\n",
      " 'Bhaage Re Mann' 'Chhota Bheem'\n",
      " 'ChuChu TV Nursery Rhymes & Kids Songs (Hindi)' 'Classic Legends'\n",
      " 'College Romance' 'Cricket Fever: Mumbai Indians' 'Darr Sabko Lagta Hai'\n",
      " 'Delhi Crime' 'Devlok with Devdutt Pattanaik' 'Dharmakshetra'\n",
      " 'Engineering Girls' 'Fabulous Lives of Bollywood Wives'\n",
      " 'Fear Files... Har Mod Pe Darr' 'Gabru: Hip Hop Revolution'\n",
      " 'Gangs of Hassepur' 'GHOUL' 'Girls Hostel' 'Hasmukh' 'Inmates'\n",
      " 'Jamtara - Sabka Number Ayega' 'Jhansi Ki Rani'\n",
      " 'Khan: No. 1 Crime Hunter' 'Khelti Hai Zindagi Aankh Micholi'\n",
      " 'Khotey Sikkey' 'Ladies Up' 'Leila' 'Little Singham' 'Little Things'\n",
      " 'Maharakshak Devi' 'Maharakshak: Aryan' 'Mahi Way' 'Masaba Masaba'\n",
      " 'Midnight Misadventures With Mallika Dua' 'Mighty Little Bheem: Diwali'\n",
      " 'Mighty Little Bheem: Festival of Colors'\n",
      " 'Mighty Little Bheem: Kite Festival' 'Mismatched' 'Paava Kadhaigal'\n",
      " 'Powder' 'Raja Rasoi Aur Anya Kahaniyan' 'Ramayan' 'Razia Sultan'\n",
      " 'Regiment Diaries' 'Rishta.com' 'Sab Jholmaal Hai' 'Selection Day' 'She'\n",
      " 'Stories by Rabindranath Tagore' 'Super Bheem' 'Taj Mahal 1989'\n",
      " 'Th Eena Meena Deeka Chase Comedy Show' 'Thackeray' 'The Calling'\n",
      " 'The Creative Indians' 'The Golden Years with Javed Akhtar'\n",
      " 'The House That Made Me' 'Typewriter' 'Yeh Meri Family']\n"
     ]
    }
   ],
   "source": [
    "#Show the title of tv shows that were released only in india\n",
    "tv_shows_india = df[(df['Category'] == 'TV Show') & (df['Country'] == 'India')]\n",
    "print(\"TV Shows released only in India:\")\n",
    "print(tv_shows_india['Title'].unique())"
   ]
  },
  {
   "cell_type": "code",
   "execution_count": 222,
   "id": "5525a045-dcfe-41f0-8b3b-a88150004c0b",
   "metadata": {},
   "outputs": [
    {
     "name": "stdout",
     "output_type": "stream",
     "text": [
      "Top 10 directors by number of shows/movies:\n",
      "Director\n",
      "Raúl Campos, Jan Suter    18\n",
      "Marcus Raboy              16\n",
      "Jay Karas                 14\n",
      "Cathy Garcia-Molina       13\n",
      "Youssef Chahine           12\n",
      "Martin Scorsese           12\n",
      "Jay Chapman               12\n",
      "Steven Spielberg          10\n",
      "David Dhawan               9\n",
      "Johnnie To                 8\n",
      "Name: count, dtype: int64\n"
     ]
    }
   ],
   "source": [
    "#Show the Top 10 directors who gave the highest number of TV shows and movies to Netflix.\n",
    "top_directors = df['Director'].value_counts().head(10)#counts of unique values, sorted in descending order by default\n",
    "print(\"Top 10 directors by number of shows/movies:\")\n",
    "print(top_directors)\n"
   ]
  },
  {
   "cell_type": "code",
   "execution_count": 231,
   "id": "cd71e3d5-0bda-423e-9e68-da97280c1189",
   "metadata": {},
   "outputs": [
    {
     "name": "stdout",
     "output_type": "stream",
     "text": [
      "Records where (Category is Movie & Type is Comedies) or (Country is UK):\n",
      "                                  Title Category  \\\n",
      "18                               15-Aug    Movie   \n",
      "19                                  '89    Movie   \n",
      "33                         #realityhigh    Movie   \n",
      "34                                #Roxy    Movie   \n",
      "36                              #Selfie    Movie   \n",
      "...                                 ...      ...   \n",
      "7766                               Zero    Movie   \n",
      "7771           Zindagi Na Milegi Dobara    Movie   \n",
      "7774  Zipi & Zape y la Isla del Capitan    Movie   \n",
      "7780                         Zombieland    Movie   \n",
      "7783                               Zoom    Movie   \n",
      "\n",
      "                                        Type         Country  \n",
      "18      Comedies, Dramas, Independent Movies           India  \n",
      "19                             Sports Movies  United Kingdom  \n",
      "33                                  Comedies   United States  \n",
      "34                 Comedies, Romantic Movies          Canada  \n",
      "36    Comedies, Dramas, International Movies         Romania  \n",
      "...                                      ...             ...  \n",
      "7766  Comedies, Dramas, International Movies           India  \n",
      "7771  Comedies, Dramas, International Movies           India  \n",
      "7774      Children & Family Movies, Comedies           Spain  \n",
      "7780                 Comedies, Horror Movies   United States  \n",
      "7783      Children & Family Movies, Comedies   United States  \n",
      "\n",
      "[1821 rows x 4 columns]\n"
     ]
    }
   ],
   "source": [
    "#Show all the records where “category is movie and type is comedies” or “county is united kingdom”\n",
    "filtered_df = df[\n",
    "    ((df['Category'] == 'Movie') & (df['Type'].str.contains('Comedies', na=False))) |\n",
    "    (df['Country'] == 'United Kingdom')]\n",
    "print(\"Records where (Category is Movie & Type is Comedies) or (Country is UK):\")\n",
    "print(filtered_df[['Title', 'Category', 'Type', 'Country']])\n"
   ]
  },
  {
   "cell_type": "code",
   "execution_count": 247,
   "id": "27856619-b1fc-414c-81cb-ddd804ef2a9b",
   "metadata": {},
   "outputs": [
    {
     "name": "stdout",
     "output_type": "stream",
     "text": [
      "Tom Cruise appeared in 2 shows/movies.\n",
      "         Title Category                                               Cast\n",
      "3860  Magnolia    Movie  Jeremy Blackman, Tom Cruise, Melinda Dillon, A...\n",
      "5071  Rain Man    Movie  Dustin Hoffman, Tom Cruise, Valeria Golino, Ge...\n"
     ]
    }
   ],
   "source": [
    "#In how many movies/shows, Tom Cruise were cast?\n",
    "#Show the records as well\n",
    "tom_cruise_df1 = df1[df1['Cast'].astype(str).str.contains('Tom Cruise')]\n",
    "print(f\"Tom Cruise appeared in {len(tom_cruise_df1)} shows/movies.\")\n",
    "print(tom_cruise_df1[['Title', 'Category', 'Cast']])"
   ]
  },
  {
   "cell_type": "markdown",
   "id": "d91490e5-bc01-4d1f-be84-7a121012ad8a",
   "metadata": {},
   "source": [
    "# TASK 7"
   ]
  },
  {
   "cell_type": "code",
   "execution_count": 250,
   "id": "e06644d4-77b3-4850-b9ef-375e5fd19097",
   "metadata": {},
   "outputs": [
    {
     "data": {
      "text/plain": [
       "array(['TV-MA', 'R', 'PG-13', 'TV-14', 'TV-PG', 'NR', 'TV-G', 'TV-Y', nan,\n",
       "       'TV-Y7', 'PG', 'G', 'NC-17', 'TV-Y7-FV', 'UR'], dtype=object)"
      ]
     },
     "execution_count": 250,
     "metadata": {},
     "output_type": "execute_result"
    }
   ],
   "source": [
    "#Task 7: What are all Ratings defined by Netflix?\n",
    "#Distribution of content ratings in a graph\n",
    "#Show the ratings and no. of unique ratings\n",
    "#How many movies got “TV-14” rating in Canada?\n",
    "#How many Tv Shows got rating “R” after year 2018?\n",
    "\n",
    "#Task 7: What are all Ratings defined by Netflix?\n",
    "all_ratings = df1['Rating'].unique()\n",
    "all_ratings"
   ]
  },
  {
   "cell_type": "code",
   "execution_count": 260,
   "id": "aa353192-0e15-47ba-96b3-d578b13f16b6",
   "metadata": {},
   "outputs": [
    {
     "data": {
      "image/png": "[encoded data removed]",
      "text/plain": [
       "<Figure size 1000x500 with 1 Axes>"
      ]
     },
     "metadata": {},
     "output_type": "display_data"
    }
   ],
   "source": [
    "#Distribution of content ratings in a graph\n",
    "plt.figure(figsize=(10, 5))\n",
    "sns.countplot(\n",
    "    data=df1,\n",
    "    y='Rating',\n",
    "    hue='Rating',\n",
    "    palette='coolwarm',\n",
    "    order=df1['Rating'].value_counts().index,\n",
    "    legend=False\n",
    ")\n",
    "plt.title(\"Distribution of Netflix Content Ratings\")\n",
    "plt.xlabel(\"Count\")\n",
    "plt.ylabel(\"Rating\")\n",
    "plt.grid(axis='x', linestyle='--', alpha=0.4)\n",
    "plt.tight_layout()\n",
    "plt.show()"
   ]
  },
  {
   "cell_type": "code",
   "execution_count": 268,
   "id": "3f0f6b44-fc8b-486b-96f2-7a51abb7c4f5",
   "metadata": {},
   "outputs": [
    {
     "name": "stdout",
     "output_type": "stream",
     "text": [
      "Number of Movies rated 'TV-14' in Canada: 11\n",
      "\n"
     ]
    }
   ],
   "source": [
    "#How many movies got “TV-14” rating in Canada?\n",
    "tv14_canada_movies = df1[\n",
    "    (df1['Category'] == 'Movie') &\n",
    "    (df1['Rating'] == 'TV-14') &\n",
    "    (df1['Country'] == 'Canada')\n",
    "]\n",
    "print(f\"Number of Movies rated 'TV-14' in Canada: {len(tv14_canada_movies)}\\n\")\n"
   ]
  },
  {
   "cell_type": "code",
   "execution_count": 270,
   "id": "2e6f65a9-10fa-404c-b749-3fd40125f5ef",
   "metadata": {},
   "outputs": [
    {
     "name": "stdout",
     "output_type": "stream",
     "text": [
      "All Ratings used by Netflix:\n",
      "['TV-MA' 'R' 'PG-13' 'TV-14' 'TV-PG' 'NR' 'TV-G' 'TV-Y' nan 'TV-Y7' 'PG'\n",
      " 'G' 'NC-17' 'TV-Y7-FV' 'UR']\n",
      "\n",
      "Total number of unique ratings: 14\n"
     ]
    }
   ],
   "source": [
    "#Show the ratings and no. of unique ratings\n",
    "# All ratings (non-null)\n",
    "all_ratings = df1['Rating'].unique()\n",
    "print(\"All Ratings used by Netflix:\")\n",
    "print(all_ratings)\n",
    "\n",
    "# Number of unique ratings\n",
    "num_unique_ratings = df1['Rating'].nunique()\n",
    "print(f\"\\nTotal number of unique ratings: {num_unique_ratings}\")\n"
   ]
  },
  {
   "cell_type": "code",
   "execution_count": 274,
   "id": "67f41a68-4f45-4e1b-9fec-95ecb1480ebd",
   "metadata": {},
   "outputs": [
    {
     "name": "stdout",
     "output_type": "stream",
     "text": [
      "Number of TV Shows rated 'R' after 2018: 1\n"
     ]
    }
   ],
   "source": [
    "#How many Tv Shows got rating “R” after year 2018?\n",
    "tv_r_after_2018 = df1[\n",
    "    (df1['Category'] == 'TV Show') &\n",
    "    (df1['Rating'] == 'R') &\n",
    "    (df1['year'] > 2018)\n",
    "]\n",
    "\n",
    "print(f\"Number of TV Shows rated 'R' after 2018: {len(tv_r_after_2018)}\")\n"
   ]
  },
  {
   "cell_type": "markdown",
   "id": "2a61a1af-3fd8-455c-a613-a79a2248bc3b",
   "metadata": {},
   "source": [
    "# TASK 8"
   ]
  },
  {
   "cell_type": "code",
   "execution_count": 277,
   "id": "6fdf0e1b-a31a-48a7-9776-d97e3bedcb10",
   "metadata": {},
   "outputs": [],
   "source": [
    "#Task 8: What is the maximum duration of a movie/tv show in Netflix?\n",
    "#Show the lowest as well\n",
    "\n",
    "# Split the 'Duration' into numeric part and unit\n",
    "df1[['duration_int', 'duration_type']] = df1['Duration'].str.extract(r'(\\d+)\\s*(\\w+)')\n",
    "df1['duration_int'] = df1['duration_int'].astype(float)\n"
   ]
  },
  {
   "cell_type": "code",
   "execution_count": 279,
   "id": "2f1a2dfe-76ee-4beb-8128-3128afd0e805",
   "metadata": {},
   "outputs": [
    {
     "name": "stdout",
     "output_type": "stream",
     "text": [
      "Longest Movie:\n",
      "Title       Black Mirror: Bandersnatch\n",
      "Duration                       312 min\n",
      "Name: 957, dtype: object\n",
      "\n",
      "Shortest Movie:\n",
      "Title       Silent\n",
      "Duration     3 min\n",
      "Name: 5606, dtype: object\n",
      "\n",
      "Longest TV Show:\n",
      "Title       Grey's Anatomy\n",
      "Duration        16 Seasons\n",
      "Name: 2538, dtype: object\n",
      "\n",
      "Shortest TV Show:\n",
      "Title             46\n",
      "Duration    1 Season\n",
      "Name: 5, dtype: object\n"
     ]
    }
   ],
   "source": [
    "# Maximum and Minimum Duration for Movies\n",
    "movie_durations = df1[df1['Category'] == 'Movie']\n",
    "max_movie = movie_durations.loc[movie_durations['duration_int'].idxmax()]\n",
    "min_movie = movie_durations.loc[movie_durations['duration_int'].idxmin()]\n",
    "\n",
    "print(\"Longest Movie:\")\n",
    "print(max_movie[['Title', 'Duration']])\n",
    "\n",
    "print(\"\\nShortest Movie:\")\n",
    "print(min_movie[['Title', 'Duration']])\n",
    "\n",
    "# Maximum and Minimum Duration for TV Shows\n",
    "tv_durations = df1[df1['Category'] == 'TV Show']\n",
    "max_tv = tv_durations.loc[tv_durations['duration_int'].idxmax()]\n",
    "min_tv = tv_durations.loc[tv_durations['duration_int'].idxmin()]\n",
    "\n",
    "print(\"\\nLongest TV Show:\")\n",
    "print(max_tv[['Title', 'Duration']])\n",
    "\n",
    "print(\"\\nShortest TV Show:\")\n",
    "print(min_tv[['Title', 'Duration']])\n",
    "\n"
   ]
  },
  {
   "cell_type": "markdown",
   "id": "ab25b71d-a60f-4355-b681-36b446bdc6d3",
   "metadata": {},
   "source": [
    "# TASK 9"
   ]
  },
  {
   "cell_type": "code",
   "execution_count": null,
   "id": "af9a07a8-aba1-474b-8f11-3117858a4d02",
   "metadata": {},
   "outputs": [],
   "source": [
    "#Task 9: Which country has the highest no. of .Tv Shows\n",
    "#Show all the countries and no .of tv shows in a graph as well\n",
    "#Compare each countries tv show and movie count and show them in a graph as well"
   ]
  },
  {
   "cell_type": "code",
   "execution_count": 282,
   "id": "820807bd-5adb-4cfb-9295-c11811a2c3ae",
   "metadata": {},
   "outputs": [
    {
     "name": "stdout",
     "output_type": "stream",
     "text": [
      "Country with highest number of TV Shows: United States (665 TV Shows)\n"
     ]
    }
   ],
   "source": [
    "#Task 9: Which country has the highest no. of .Tv Shows\n",
    "# Filter TV Shows\n",
    "tv_shows = df1[df1['Category'] == 'TV Show']\n",
    "\n",
    "# Count TV Shows per country\n",
    "tv_shows_by_country = tv_shows['Country'].value_counts()\n",
    "\n",
    "# Display top country\n",
    "top_country = tv_shows_by_country.idxmax()\n",
    "top_count = tv_shows_by_country.max()\n",
    "\n",
    "print(f\"Country with highest number of TV Shows: {top_country} ({top_count} TV Shows)\")\n"
   ]
  },
  {
   "cell_type": "code",
   "execution_count": 326,
   "id": "1f9cd7dd-7b59-49d3-9ae4-873c5a90e9e0",
   "metadata": {},
   "outputs": [
    {
     "name": "stdout",
     "output_type": "stream",
     "text": [
      "Countries and no.of tv shows as follows\n",
      " Country\n",
      "United States           819\n",
      "United Kingdom          237\n",
      "Japan                   180\n",
      "South Korea             152\n",
      "Canada                  113\n",
      "                       ... \n",
      "Austria                   1\n",
      "Cuba                      1\n",
      "Philippines               1\n",
      "Syria                     1\n",
      "United Arab Emirates      1\n",
      "Name: count, Length: 65, dtype: int64\n"
     ]
    },
    {
     "data": {
      "image/png": "[encoded data removed]",
      "text/plain": [
       "<Figure size 1000x600 with 1 Axes>"
      ]
     },
     "metadata": {},
     "output_type": "display_data"
    }
   ],
   "source": [
    "#Show all the countries and no .of tv shows in a graph as well\n",
    "\n",
    "# Filter TV Shows\n",
    "tv_shows = df1.loc[df1['Category'] == 'TV Show'].dropna(subset=['Country']).copy()\n",
    "\n",
    "#split country\n",
    "tv_shows.loc[:, 'Country'] = tv_shows['Country'].astype(str).str.split(',')\n",
    "\n",
    "# Strip space before country name\n",
    "tv_shows.loc[:, 'Country'] = tv_shows['Country'].apply(lambda x: [c.strip() for c in x])\n",
    "\n",
    "# Explode the list so each country has its own row\n",
    "tv_shows_exploded = tv_shows.explode('Country')\n",
    "\n",
    "# Count TV shows by country\n",
    "tv_counts = tv_shows_exploded['Country'].value_counts()\n",
    "\n",
    "# Prepare DataFrame for plotting top 20 countries\n",
    "top_countries = tv_counts.head(10).reset_index()\n",
    "top_countries.columns = ['Country', 'TV_Show_Count']\n",
    "print(\"Countries and no.of tv shows as follows\\n\",tv_counts)\n",
    "plt.figure(figsize=(10, 6))\n",
    "sns.barplot(\n",
    "    data=top_countries,\n",
    "    x='TV_Show_Count',\n",
    "    y='Country',\n",
    "    hue='Country',\n",
    "    palette='rocket',\n",
    "    legend=False\n",
    ")\n",
    "\n",
    "plt.title(\"Top 20 Countries by Number of TV Shows (Split by Country)\")\n",
    "plt.xlabel(\"Number of TV Shows\")\n",
    "plt.ylabel(\"Country\")\n",
    "plt.grid(axis='x', linestyle='--', alpha=0.3)\n",
    "plt.tight_layout()\n",
    "plt.show()\n"
   ]
  },
  {
   "cell_type": "code",
   "execution_count": 338,
   "id": "e35d11e4-b6cc-4f82-9587-e6e9f6233531",
   "metadata": {},
   "outputs": [
    {
     "data": {
      "image/png": "[encoded data removed]",
      "text/plain": [
       "<Figure size 1200x600 with 1 Axes>"
      ]
     },
     "metadata": {},
     "output_type": "display_data"
    }
   ],
   "source": [
    "#Compare each countries tv show and movie count and show them in a graph as well\n",
    "\n",
    "# Use cleaned and exploded df1\n",
    "df_clean = df1.dropna(subset=['Country']).copy()\n",
    "df_clean['Country'] = df_clean['Country'].astype(str).str.split(',')\n",
    "df_clean['Country'] = df_clean['Country'].apply(lambda x: [c.strip() for c in x])\n",
    "df_exploded = df_clean.explode('Country')\n",
    "\n",
    "# Group by Country and Category (TV Show / Movie)\n",
    "country_category_counts = df_exploded.groupby(['Country', 'Category']).size().unstack(fill_value=0)\n",
    "\n",
    "# Sort by total content and take top N\n",
    "country_category_counts['Total'] = country_category_counts.sum(axis=1)\n",
    "top_countries = country_category_counts.sort_values(by='Total', ascending=False).drop(columns='Total').head(15).reset_index()\n",
    "\n",
    "# Melt for Seaborn barplot\n",
    "melted = top_countries.melt(id_vars='Country', var_name='Type', value_name='Count')\n",
    "\n",
    "# Plot grouped bar chart\n",
    "plt.figure(figsize=(12, 6))\n",
    "sns.barplot(data=melted, x='Country', y='Count', hue='Type', palette='Set2')\n",
    "\n",
    "plt.title(\"Comparison of TV Shows and Movies by Country (Top 15)\")\n",
    "plt.xlabel(\"Country\")\n",
    "plt.ylabel(\"Count\")\n",
    "plt.xticks(rotation=45)\n",
    "plt.grid(axis='y', linestyle='--', alpha=0.3)\n",
    "plt.tight_layout()\n",
    "plt.show()\n"
   ]
  },
  {
   "cell_type": "markdown",
   "id": "04babd5a-5a8f-487e-b936-c140fe930c19",
   "metadata": {},
   "source": [
    "# TASK 10"
   ]
  },
  {
   "cell_type": "code",
   "execution_count": null,
   "id": "afdfdaa2-ee38-4baf-8959-70ea6d627c5c",
   "metadata": {},
   "outputs": [],
   "source": [
    "#Task 10: Sort the dataset by year and show them\n",
    "#Show the count of movies/tv shows released in a year in line chart\n",
    "#Show the Top 5 directors in the Netflix based on the count of movies/tv shows directed by them."
   ]
  },
  {
   "cell_type": "code",
   "execution_count": 341,
   "id": "114089eb-48f5-4d1a-a8de-20216b65ddc0",
   "metadata": {},
   "outputs": [
    {
     "name": "stdout",
     "output_type": "stream",
     "text": [
      "                                        Title Category  year\n",
      "7115                     To and From New York    Movie  2008\n",
      "1765                          Dinner for Five  TV Show  2008\n",
      "3248                  Just Another Love Story    Movie  2009\n",
      "5766                                 Splatter    Movie  2009\n",
      "3840              Mad Ron's Prevues from Hell    Movie  2010\n",
      "...                                       ...      ...   ...\n",
      "1285                                 Charming    Movie  2021\n",
      "6248                       The Creative Brain    Movie  2021\n",
      "1919                        Eddie Murphy: Raw    Movie  2021\n",
      "4864  Pinkfong & Baby Shark's Space Adventure    Movie  2021\n",
      "1673                              Death of Me    Movie  2021\n",
      "\n",
      "[7689 rows x 3 columns]\n"
     ]
    }
   ],
   "source": [
    "#Sort the dataset by year and show them\n",
    "# Drop missing years if any, and convert to int for sorting\n",
    "df1_sorted = df1.dropna(subset=['year']).copy()\n",
    "df1_sorted['year'] = df1_sorted['year'].astype(int)\n",
    "\n",
    "# Sort by year\n",
    "df1_sorted = df1_sorted.sort_values(by='year')\n",
    "print(df1_sorted[['Title', 'Category', 'year']])\n"
   ]
  },
  {
   "cell_type": "code",
   "execution_count": 343,
   "id": "1ead285d-8c8e-4f47-8053-b6cbe0d37c1c",
   "metadata": {},
   "outputs": [
    {
     "data": {
      "image/png": "[encoded data removed]",
      "text/plain": [
       "<Figure size 1000x500 with 1 Axes>"
      ]
     },
     "metadata": {},
     "output_type": "display_data"
    }
   ],
   "source": [
    "#Show the count of movies/tv shows released in a year in line chart\n",
    "\n",
    "# Count content by year\n",
    "yearly_counts = df1_sorted['year'].value_counts().sort_index()\n",
    "\n",
    "# Plot\n",
    "plt.figure(figsize=(10, 5))\n",
    "sns.lineplot(x=yearly_counts.index, y=yearly_counts.values, marker='o', color='teal')\n",
    "plt.title('Number of Movies/TV Shows Released Each Year')\n",
    "plt.xlabel('Year')\n",
    "plt.ylabel('Count')\n",
    "plt.grid(alpha=0.3)\n",
    "plt.tight_layout()\n",
    "plt.show()\n"
   ]
  },
  {
   "cell_type": "code",
   "execution_count": 357,
   "id": "d68be7ed-3ab5-411e-a49e-7f7a0213eb37",
   "metadata": {},
   "outputs": [
    {
     "name": "stdout",
     "output_type": "stream",
     "text": [
      "Top 5 Directors on Netflix:\n",
      "                 Director  Count\n",
      "0  Raúl Campos, Jan Suter     18\n",
      "1            Marcus Raboy     16\n",
      "2               Jay Karas     14\n",
      "3     Cathy Garcia-Molina     13\n",
      "4         Youssef Chahine     12\n"
     ]
    },
    {
     "data": {
      "image/png": "[encoded data removed]",
      "text/plain": [
       "<Figure size 800x500 with 1 Axes>"
      ]
     },
     "metadata": {},
     "output_type": "display_data"
    }
   ],
   "source": [
    "#Show the Top 5 directors in the Netflix based on the count of movies/tv shows directed by them.\n",
    "\n",
    "# Drop missing director values\n",
    "directors = df1.dropna(subset=['Director'])\n",
    "\n",
    "# Count appearances of each director\n",
    "top_directors = directors['Director'].value_counts().head(5).reset_index()\n",
    "top_directors.columns = ['Director', 'Count']\n",
    "\n",
    "print(\"Top 5 Directors on Netflix:\")\n",
    "print(top_directors)\n",
    "\n",
    "# Optional: Bar plot for visualization\n",
    "plt.figure(figsize=(8, 5))\n",
    "sns.barplot(\n",
    "    data=top_directors,\n",
    "    x='Count',\n",
    "    y='Director',\n",
    "    hue='Director',         # Set hue to match y-axis\n",
    "    palette='viridis',\n",
    "    legend=False            # Hide the redundant legend\n",
    ")\n",
    "plt.title('Top 5 Directors by Number of Netflix Titles')\n",
    "plt.xlabel('Number of Titles')\n",
    "plt.ylabel('Director')\n",
    "plt.tight_layout()\n",
    "plt.grid(axis='x', linestyle='--', alpha=0.3)\n",
    "plt.show()\n"
   ]
  },
  {
   "cell_type": "code",
   "execution_count": 367,
   "id": "3b83bfae-9586-4c55-90b4-35019ae485db",
   "metadata": {},
   "outputs": [
    {
     "data": {
      "text/plain": [
       "4046"
      ]
     },
     "execution_count": 367,
     "metadata": {},
     "output_type": "execute_result"
    }
   ],
   "source": [
    "dic=directors['Director'].nunique()\n",
    "dic"
   ]
  },
  {
   "cell_type": "code",
   "execution_count": null,
   "id": "6101e341-e9b4-449c-aa5e-59f89a5f4677",
   "metadata": {},
   "outputs": [],
   "source": []
  }
 ],
 "metadata": {
  "kernelspec": {
   "display_name": "Python [conda env:base] *",
   "language": "python",
   "name": "conda-base-py"
  },
  "language_info": {
   "codemirror_mode": {
    "name": "ipython",
    "version": 3
   },
   "file_extension": ".py",
   "mimetype": "text/x-python",
   "name": "python",
   "nbconvert_exporter": "python",
   "pygments_lexer": "ipython3",
   "version": "3.12.7"
  }
 },
 "nbformat": 4,
 "nbformat_minor": 5
}
